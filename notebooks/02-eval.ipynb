{
 "cells": [
  {
   "cell_type": "code",
   "execution_count": 1,
   "id": "99657e82-29ca-4cda-bdb0-60b796c6c44c",
   "metadata": {},
   "outputs": [
    {
     "name": "stdout",
     "output_type": "stream",
     "text": [
      "Using: cuda\n"
     ]
    }
   ],
   "source": [
    "from pathlib import Path\n",
    "import scanpy as sc\n",
    "\n",
    "import torch\n",
    "import torch.nn as nn\n",
    "\n",
    "from torch.utils.data import DataLoader, Subset\n",
    "\n",
    "from gettention.data import SCDataset\n",
    "from gettention.model import PerformerClassifier, TransformerClassifier\n",
    "import TOSICA\n",
    "\n",
    "import numpy as np\n",
    "import pandas as pd\n",
    "\n",
    "from sklearn import svm\n",
    "from sklearn.linear_model import LogisticRegression\n",
    "from sklearn.metrics import (confusion_matrix,\n",
    "ConfusionMatrixDisplay, classification_report)\n",
    "\n",
    "import pickle\n",
    "\n",
    "import matplotlib.pyplot as plt\n",
    "\n",
    "device = torch.device(\"cuda\" if torch.cuda.is_available() else \"cpu\")\n",
    "print(f\"Using: {device}\")"
   ]
  },
  {
   "cell_type": "code",
   "execution_count": 2,
   "id": "ebda787a-1160-46e3-85af-fbe2aa01ec25",
   "metadata": {},
   "outputs": [],
   "source": [
    "PROJ_ROOT = Path().resolve().parent\n",
    "DATA_PATH = PROJ_ROOT / 'data' / 'pfalciparum'\n",
    "\n",
    "FIG_PATH = PROJ_ROOT / 'report' / 'figures'\n",
    "\n",
    "adata = sc.read_h5ad(filename= DATA_PATH / 'pf10xIDC.gz.h5ad')\n",
    "sc_data = SCDataset(adata, 'bulk', 'log_trans', device)"
   ]
  },
  {
   "cell_type": "code",
   "execution_count": 3,
   "id": "a9e49854-9eb5-4526-bbe0-0d45ad1e4b56",
   "metadata": {},
   "outputs": [
    {
     "data": {
      "text/plain": [
       "{(1, 0, 0, 0): 'early_troph',\n",
       " (0, 1, 0, 0): 'late_troph',\n",
       " (0, 0, 1, 0): 'ring',\n",
       " (0, 0, 0, 1): 'schizont'}"
      ]
     },
     "execution_count": 3,
     "metadata": {},
     "output_type": "execute_result"
    }
   ],
   "source": [
    "sc_data.class_map"
   ]
  },
  {
   "cell_type": "code",
   "execution_count": 4,
   "id": "45feb777-639a-4c1f-9f46-1a53a18fac10",
   "metadata": {},
   "outputs": [],
   "source": [
    "BATCH_SIZE = 8\n",
    "\n",
    "test_idx_path = DATA_PATH / 'test_indices.pkl'\n",
    "with test_idx_path.open('rb') as f:\n",
    "    test_indices = pickle.load(f)\n",
    "\n",
    "test_split = Subset(sc_data, test_indices)\n",
    "test_loader = DataLoader(test_split, batch_size=BATCH_SIZE)\n",
    "\n",
    "\n",
    "train_idx_path = DATA_PATH / 'train_indices.pkl'\n",
    "with train_idx_path.open('rb') as f:\n",
    "    train_indices = pickle.load(f)\n"
   ]
  },
  {
   "cell_type": "code",
   "execution_count": 5,
   "id": "68ed159c-fc4a-4155-8ee3-da6adb15db22",
   "metadata": {},
   "outputs": [
    {
     "data": {
      "text/plain": [
       "<All keys matched successfully>"
      ]
     },
     "execution_count": 5,
     "metadata": {},
     "output_type": "execute_result"
    }
   ],
   "source": [
    "PERFORMER_WEIGHTS_PATH = DATA_PATH / 'performer_model_weights.pth'\n",
    "TRANSFORMER_WEIGHTS_PATH = DATA_PATH / 'transformer_model_weights.pth'\n",
    "\n",
    "N_CELLS, M_GENES = sc_data.x.shape\n",
    "K_CLASSES = sc_data.labels.shape[1]\n",
    "\n",
    "performer = PerformerClassifier(\n",
    "    N_CELLS,\n",
    "    M_GENES,\n",
    "    K_CLASSES\n",
    ").to(device)\n",
    "\n",
    "performer.load_state_dict(torch.load(PERFORMER_WEIGHTS_PATH))"
   ]
  },
  {
   "cell_type": "code",
   "execution_count": 6,
   "id": "9d2c66c0-1ece-4737-a972-a6c5188549d4",
   "metadata": {},
   "outputs": [
    {
     "name": "stderr",
     "output_type": "stream",
     "text": [
      "/home/quercifolia/dev/gettention/.venv/lib/python3.11/site-packages/torch/nn/modules/transformer.py:282: UserWarning: enable_nested_tensor is True, but self.use_nested_tensor is False because encoder_layer.self_attn.batch_first was not True(use batch_first for better inference performance)\n",
      "  warnings.warn(f\"enable_nested_tensor is True, but self.use_nested_tensor is False because {why_not_sparsity_fast_path}\")\n"
     ]
    },
    {
     "data": {
      "text/plain": [
       "<All keys matched successfully>"
      ]
     },
     "execution_count": 6,
     "metadata": {},
     "output_type": "execute_result"
    }
   ],
   "source": [
    "transformer = TransformerClassifier(\n",
    "    ntoken=M_GENES,\n",
    "    d_model=48,\n",
    "    nhead=2,\n",
    "    d_hid=200,\n",
    "    nlayers=2,\n",
    "    num_classes=K_CLASSES,\n",
    "    learning_rate=1e-3,\n",
    ").to(device)\n",
    "\n",
    "transformer.load_state_dict(torch.load(TRANSFORMER_WEIGHTS_PATH))"
   ]
  },
  {
   "cell_type": "code",
   "execution_count": 7,
   "id": "adb614bc-cde7-4ce8-ae56-4ed97e0ef22f",
   "metadata": {},
   "outputs": [],
   "source": [
    "test_labs = adata[test_indices].obs.bulk.values"
   ]
  },
  {
   "cell_type": "markdown",
   "id": "d4a43187-02e9-482a-b46c-b282c7229ba6",
   "metadata": {},
   "source": [
    "## Performer"
   ]
  },
  {
   "cell_type": "code",
   "execution_count": 8,
   "id": "e34c277d-e483-49fb-85ee-41cbcebfd001",
   "metadata": {},
   "outputs": [],
   "source": [
    "test_preds = []\n",
    "performer.eval()\n",
    "with torch.no_grad():\n",
    "    for vals, _ in iter(test_loader):\n",
    "        test_pred = performer(vals)\n",
    "        test = test_pred\n",
    "        idx = torch.argmax(test_pred, dim=1, keepdims=True)\n",
    "        test_pred = torch.zeros_like(test_pred).scatter_(1, idx, 1.).cpu().numpy()\n",
    "        \n",
    "        test_preds.append(test_pred)\n",
    "test_preds = np.concatenate(test_preds)\n",
    "pred_labs = [sc_data.class_map[tuple(pred.tolist())] for pred in test_preds]"
   ]
  },
  {
   "cell_type": "code",
   "execution_count": 9,
   "id": "2e263691-ac46-4eab-929f-ab05f4bc402b",
   "metadata": {},
   "outputs": [
    {
     "data": {
      "image/png": "[encoded data removed]",
      "text/plain": [
       "<Figure size 640x480 with 2 Axes>"
      ]
     },
     "metadata": {},
     "output_type": "display_data"
    }
   ],
   "source": [
    "cf = confusion_matrix(test_labs, pred_labs, normalize=\"pred\")\n",
    "cf = ConfusionMatrixDisplay(cf).plot()\n",
    "plt.savefig(FIG_PATH / 'performer_confusion.png', bbox_inches=\"tight\", dpi = 300)"
   ]
  },
  {
   "cell_type": "code",
   "execution_count": 10,
   "id": "db9816e7-5064-4f51-912a-b6ccb9ecf043",
   "metadata": {},
   "outputs": [],
   "source": [
    "performer_report = classification_report(test_labs, pred_labs, output_dict=True, zero_division=0)"
   ]
  },
  {
   "cell_type": "markdown",
   "id": "74d94d4a-252c-4ea4-b2f6-36951de10eac",
   "metadata": {},
   "source": [
    "## Transformer"
   ]
  },
  {
   "cell_type": "code",
   "execution_count": 11,
   "id": "2e284d28-1d5a-45ab-9eb7-532d7843076d",
   "metadata": {},
   "outputs": [],
   "source": [
    "test_preds = []\n",
    "transformer.eval()\n",
    "with torch.no_grad():\n",
    "    for vals, _ in iter(test_loader):\n",
    "        test_pred = transformer(vals)\n",
    "        idx = torch.argmax(test_pred, dim=1, keepdims=True)\n",
    "        test_pred = torch.zeros_like(test_pred).scatter_(1, idx, 1.).cpu().numpy()\n",
    "        \n",
    "        test_preds.append(test_pred)\n",
    "test_preds = np.concatenate(test_preds)\n",
    "pred_labs = [sc_data.class_map[tuple(pred.tolist())] for pred in test_preds]"
   ]
  },
  {
   "cell_type": "code",
   "execution_count": 12,
   "id": "583ab558-b2f8-4b90-9929-ac05d2ca3a0a",
   "metadata": {},
   "outputs": [
    {
     "data": {
      "image/png": "[encoded data removed]",
      "text/plain": [
       "<Figure size 640x480 with 2 Axes>"
      ]
     },
     "metadata": {},
     "output_type": "display_data"
    }
   ],
   "source": [
    "cf = confusion_matrix(test_labs, pred_labs, normalize=\"pred\")\n",
    "ConfusionMatrixDisplay(cf).plot()\n",
    "plt.savefig(FIG_PATH / 'transformer_confusion.png', bbox_inches=\"tight\", dpi = 300)"
   ]
  },
  {
   "cell_type": "code",
   "execution_count": 13,
   "id": "4ead7646-b2a7-454b-a294-8ec4f8d0901f",
   "metadata": {},
   "outputs": [],
   "source": [
    "transformer_report = classification_report(test_labs, pred_labs, output_dict=True, zero_division=0)"
   ]
  },
  {
   "cell_type": "markdown",
   "id": "f55fbdfa-0dbd-43ab-a6a0-afaff88d66a0",
   "metadata": {},
   "source": [
    "## TOSICA"
   ]
  },
  {
   "cell_type": "code",
   "execution_count": 14,
   "id": "6bde9636-a539-4f2b-989c-fecbb4ee167b",
   "metadata": {},
   "outputs": [],
   "source": [
    "TOSICA_WEIGHTS_PATH = DATA_PATH / 'tosica' / 'model-4.pth'"
   ]
  },
  {
   "cell_type": "code",
   "execution_count": 15,
   "id": "d94de9c8-79bd-47dd-ab32-a5a5b1d84400",
   "metadata": {},
   "outputs": [],
   "source": [
    "test_adata = adata[test_indices].copy()"
   ]
  },
  {
   "cell_type": "code",
   "execution_count": 16,
   "id": "4e2190a9-f21c-4885-9d17-6f9bc65baa1b",
   "metadata": {},
   "outputs": [
    {
     "name": "stdout",
     "output_type": "stream",
     "text": [
      "cuda:0\n",
      "0\n",
      "2022\n"
     ]
    },
    {
     "name": "stderr",
     "output_type": "stream",
     "text": [
      "/home/quercifolia/dev/gettention/.venv/lib/python3.11/site-packages/anndata/_core/anndata.py:1897: UserWarning: Observation names are not unique. To make them unique, call `.obs_names_make_unique`.\n",
      "  utils.warn_names_duplicates(\"obs\")\n"
     ]
    }
   ],
   "source": [
    "pred_adata = TOSICA.pre(test_adata, model_weight_path=TOSICA_WEIGHTS_PATH, project=\"tosica_pfalci\")"
   ]
  },
  {
   "cell_type": "code",
   "execution_count": 17,
   "id": "e41baddb-4855-4c93-b9c1-e519b41a3533",
   "metadata": {},
   "outputs": [
    {
     "data": {
      "image/png": "[encoded data removed]",
      "text/plain": [
       "<Figure size 640x480 with 2 Axes>"
      ]
     },
     "metadata": {},
     "output_type": "display_data"
    }
   ],
   "source": [
    "cf = confusion_matrix(pred_adata.obs.Prediction, pred_adata.obs.bulk, normalize=\"pred\")\n",
    "ConfusionMatrixDisplay(cf).plot()\n",
    "plt.savefig(FIG_PATH / 'tosica_confusion.png', bbox_inches=\"tight\", dpi = 300)"
   ]
  },
  {
   "cell_type": "code",
   "execution_count": 18,
   "id": "8f34954f-8cdb-41a8-9b17-2598f659234a",
   "metadata": {},
   "outputs": [],
   "source": [
    "tosica_report = classification_report(pred_adata.obs.Prediction, pred_adata.obs.bulk, output_dict=True)"
   ]
  },
  {
   "cell_type": "markdown",
   "id": "e1d9ea7e-8054-4135-ae98-62b63ed74919",
   "metadata": {},
   "source": [
    "## SVM"
   ]
  },
  {
   "cell_type": "code",
   "execution_count": 19,
   "id": "6aa9ee20-6631-4536-9bf3-81ff752e3108",
   "metadata": {},
   "outputs": [],
   "source": [
    "X_train = adata.layers['log_trans'][train_indices]\n",
    "X_test = adata.layers['log_trans'][test_indices]\n",
    "y_train = adata[train_indices].obs.bulk.values"
   ]
  },
  {
   "cell_type": "code",
   "execution_count": 20,
   "id": "2ca727a8-3332-4c6a-a629-2bb9c34fec03",
   "metadata": {},
   "outputs": [
    {
     "data": {
      "text/html": [
       "<style>#sk-container-id-1 {color: black;}#sk-container-id-1 pre{padding: 0;}#sk-container-id-1 div.sk-toggleable {background-color: white;}#sk-container-id-1 label.sk-toggleable__label {cursor: pointer;display: block;width: 100%;margin-bottom: 0;padding: 0.3em;box-sizing: border-box;text-align: center;}#sk-container-id-1 label.sk-toggleable__label-arrow:before {content: \"▸\";float: left;margin-right: 0.25em;color: #696969;}#sk-container-id-1 label.sk-toggleable__label-arrow:hover:before {color: black;}#sk-container-id-1 div.sk-estimator:hover label.sk-toggleable__label-arrow:before {color: black;}#sk-container-id-1 div.sk-toggleable__content {max-height: 0;max-width: 0;overflow: hidden;text-align: left;background-color: #f0f8ff;}#sk-container-id-1 div.sk-toggleable__content pre {margin: 0.2em;color: black;border-radius: 0.25em;background-color: #f0f8ff;}#sk-container-id-1 input.sk-toggleable__control:checked~div.sk-toggleable__content {max-height: 200px;max-width: 100%;overflow: auto;}#sk-container-id-1 input.sk-toggleable__control:checked~label.sk-toggleable__label-arrow:before {content: \"▾\";}#sk-container-id-1 div.sk-estimator input.sk-toggleable__control:checked~label.sk-toggleable__label {background-color: #d4ebff;}#sk-container-id-1 div.sk-label input.sk-toggleable__control:checked~label.sk-toggleable__label {background-color: #d4ebff;}#sk-container-id-1 input.sk-hidden--visually {border: 0;clip: rect(1px 1px 1px 1px);clip: rect(1px, 1px, 1px, 1px);height: 1px;margin: -1px;overflow: hidden;padding: 0;position: absolute;width: 1px;}#sk-container-id-1 div.sk-estimator {font-family: monospace;background-color: #f0f8ff;border: 1px dotted black;border-radius: 0.25em;box-sizing: border-box;margin-bottom: 0.5em;}#sk-container-id-1 div.sk-estimator:hover {background-color: #d4ebff;}#sk-container-id-1 div.sk-parallel-item::after {content: \"\";width: 100%;border-bottom: 1px solid gray;flex-grow: 1;}#sk-container-id-1 div.sk-label:hover label.sk-toggleable__label {background-color: #d4ebff;}#sk-container-id-1 div.sk-serial::before {content: \"\";position: absolute;border-left: 1px solid gray;box-sizing: border-box;top: 0;bottom: 0;left: 50%;z-index: 0;}#sk-container-id-1 div.sk-serial {display: flex;flex-direction: column;align-items: center;background-color: white;padding-right: 0.2em;padding-left: 0.2em;position: relative;}#sk-container-id-1 div.sk-item {position: relative;z-index: 1;}#sk-container-id-1 div.sk-parallel {display: flex;align-items: stretch;justify-content: center;background-color: white;position: relative;}#sk-container-id-1 div.sk-item::before, #sk-container-id-1 div.sk-parallel-item::before {content: \"\";position: absolute;border-left: 1px solid gray;box-sizing: border-box;top: 0;bottom: 0;left: 50%;z-index: -1;}#sk-container-id-1 div.sk-parallel-item {display: flex;flex-direction: column;z-index: 1;position: relative;background-color: white;}#sk-container-id-1 div.sk-parallel-item:first-child::after {align-self: flex-end;width: 50%;}#sk-container-id-1 div.sk-parallel-item:last-child::after {align-self: flex-start;width: 50%;}#sk-container-id-1 div.sk-parallel-item:only-child::after {width: 0;}#sk-container-id-1 div.sk-dashed-wrapped {border: 1px dashed gray;margin: 0 0.4em 0.5em 0.4em;box-sizing: border-box;padding-bottom: 0.4em;background-color: white;}#sk-container-id-1 div.sk-label label {font-family: monospace;font-weight: bold;display: inline-block;line-height: 1.2em;}#sk-container-id-1 div.sk-label-container {text-align: center;}#sk-container-id-1 div.sk-container {/* jupyter's `normalize.less` sets `[hidden] { display: none; }` but bootstrap.min.css set `[hidden] { display: none !important; }` so we also need the `!important` here to be able to override the default hidden behavior on the sphinx rendered scikit-learn.org. See: https://github.com/scikit-learn/scikit-learn/issues/21755 */display: inline-block !important;position: relative;}#sk-container-id-1 div.sk-text-repr-fallback {display: none;}</style><div id=\"sk-container-id-1\" class=\"sk-top-container\"><div class=\"sk-text-repr-fallback\"><pre>SVC(kernel=&#x27;linear&#x27;)</pre><b>In a Jupyter environment, please rerun this cell to show the HTML representation or trust the notebook. <br />On GitHub, the HTML representation is unable to render, please try loading this page with nbviewer.org.</b></div><div class=\"sk-container\" hidden><div class=\"sk-item\"><div class=\"sk-estimator sk-toggleable\"><input class=\"sk-toggleable__control sk-hidden--visually\" id=\"sk-estimator-id-1\" type=\"checkbox\" checked><label for=\"sk-estimator-id-1\" class=\"sk-toggleable__label sk-toggleable__label-arrow\">SVC</label><div class=\"sk-toggleable__content\"><pre>SVC(kernel=&#x27;linear&#x27;)</pre></div></div></div></div></div>"
      ],
      "text/plain": [
       "SVC(kernel='linear')"
      ]
     },
     "execution_count": 20,
     "metadata": {},
     "output_type": "execute_result"
    }
   ],
   "source": [
    "clf = svm.SVC(kernel='linear')\n",
    "#Train the model using the training sets\n",
    "clf.fit(X_train, y_train)"
   ]
  },
  {
   "cell_type": "code",
   "execution_count": 21,
   "id": "aa3af099-dec8-4bb5-bef8-450417bcb285",
   "metadata": {},
   "outputs": [],
   "source": [
    "y_pred = clf.predict(X_test)"
   ]
  },
  {
   "cell_type": "code",
   "execution_count": 22,
   "id": "dcbfb5a9-cf83-495a-b0ba-de320ea3df4f",
   "metadata": {},
   "outputs": [],
   "source": [
    "svm_report = classification_report(y_pred, test_labs, output_dict=True)"
   ]
  },
  {
   "cell_type": "markdown",
   "id": "5bea5f0e-ad3b-44dc-a0d1-55e5219c94fd",
   "metadata": {},
   "source": [
    "## Logistic Regression"
   ]
  },
  {
   "cell_type": "code",
   "execution_count": 23,
   "id": "fd9b3489-ebfb-43cd-a91e-b2eebdc0adac",
   "metadata": {},
   "outputs": [],
   "source": [
    "logisticRegr = LogisticRegression(max_iter=1000)\n",
    "logisticRegr.fit(X_train, y_train)\n",
    "y_pred = logisticRegr.predict(X_test)"
   ]
  },
  {
   "cell_type": "code",
   "execution_count": 24,
   "id": "8618f67c-a740-440b-8562-7e44717ce5a7",
   "metadata": {},
   "outputs": [],
   "source": [
    "lr_report = classification_report(y_pred, test_labs, output_dict=True)"
   ]
  },
  {
   "cell_type": "markdown",
   "id": "8f5d041d-b607-4e2c-82cf-719fc86f6f5e",
   "metadata": {},
   "source": [
    "## GCN\n",
    "Manual copy metrics...."
   ]
  },
  {
   "cell_type": "code",
   "execution_count": 25,
   "id": "9d65b406-456f-48b9-aa9e-e8f7f85f242a",
   "metadata": {},
   "outputs": [],
   "source": [
    "# this is such a mess\n",
    "pf_gcn = pd.read_csv(DATA_PATH / 'pf_gcn.csv').drop(['accuracy', 'macro avg', 'weighted avg'], axis = 1)\n",
    "\n",
    "pf_gcn.rename(columns={pf_gcn.columns[0]: 'cell_type'}, inplace=True) \n",
    "pf_gcn.set_index('cell_type', inplace=True)\n",
    "\n",
    "pf_gcn = pf_gcn.transpose()\n",
    "\n",
    "pf_gcn['model'] = \"gcn\"\n",
    "pf_gcn.reset_index(inplace=True)\n",
    "\n",
    "pf_gcn.rename(columns={pf_gcn.columns[0]: 'cell_type'}, inplace=True) \n",
    "\n",
    "pf_gcn = pf_gcn.rename_axis(None, axis=1)"
   ]
  },
  {
   "cell_type": "markdown",
   "id": "c81d620b-d4d1-4404-85b5-955973905b61",
   "metadata": {},
   "source": [
    "## Final Report"
   ]
  },
  {
   "cell_type": "code",
   "execution_count": 33,
   "id": "2189b563-6dbf-4394-87cc-91d1c5b96215",
   "metadata": {},
   "outputs": [],
   "source": [
    "final_report = {\"perf.\": performer_report,\n",
    "                \"trans.\": transformer_report,\n",
    "                \"tosica\": tosica_report,\n",
    "                \"svm\": svm_report,\n",
    "                \"lr\": lr_report\n",
    "               }"
   ]
  },
  {
   "cell_type": "code",
   "execution_count": 34,
   "id": "ce4fdbca-c3d8-4431-b52a-4040f69091f5",
   "metadata": {},
   "outputs": [],
   "source": [
    "report_dfs = []\n",
    "\n",
    "for report, metrics in final_report.items():\n",
    "    df = (pd.DataFrame.from_dict(metrics)\n",
    " .drop(['accuracy', 'macro avg', 'weighted avg'], axis = 1)\n",
    " .transpose()\n",
    "    )\n",
    "    df['model'] = str(report)\n",
    "    df.index.names = ['cell_type']\n",
    "    df = df.reset_index()\n",
    "    report_dfs.append(df)\n",
    "    "
   ]
  },
  {
   "cell_type": "code",
   "execution_count": 35,
   "id": "be0df5b3-93ab-4a08-8bff-da9e6742413f",
   "metadata": {},
   "outputs": [],
   "source": [
    "report_df = pd.concat(report_dfs)"
   ]
  },
  {
   "cell_type": "code",
   "execution_count": 36,
   "id": "a82fff3e-db48-4195-a459-a4283a66aeed",
   "metadata": {},
   "outputs": [],
   "source": [
    "report_df = pd.concat([report_df, pf_gcn])"
   ]
  },
  {
   "cell_type": "code",
   "execution_count": 37,
   "id": "a5de9d9b-65bc-41ea-9911-bb1ecab3d4b7",
   "metadata": {},
   "outputs": [],
   "source": [
    "import seaborn as sns\n",
    "sns.set_theme(style=\"whitegrid\", palette='colorblind')"
   ]
  },
  {
   "cell_type": "code",
   "execution_count": null,
   "id": "3f794a4b-627b-4e42-8aa5-de30f7cab5de",
   "metadata": {},
   "outputs": [],
   "source": []
  },
  {
   "cell_type": "code",
   "execution_count": 38,
   "id": "d979823e-6fb8-4944-ad99-aec6f1d813f0",
   "metadata": {},
   "outputs": [
    {
     "data": {
      "image/png": "[encoded data removed]",
      "text/plain": [
       "<Figure size 640x480 with 1 Axes>"
      ]
     },
     "metadata": {},
     "output_type": "display_data"
    }
   ],
   "source": [
    "import warnings\n",
    "warnings.simplefilter(action=\"ignore\", category=FutureWarning)\n",
    "g = sns.barplot(report_df, x = \"f1-score\", y = \"model\", hue = 'cell_type', alpha = 0.8)\n",
    "sns.move_legend(\n",
    "    g, \"lower center\",\n",
    "    bbox_to_anchor=(.5, 1), ncol=3, title=None, frameon=False,\n",
    ")"
   ]
  },
  {
   "cell_type": "code",
   "execution_count": 39,
   "id": "5051ba6c-5f68-41f8-8660-a13c6cf95897",
   "metadata": {},
   "outputs": [],
   "source": [
    "g.get_figure().savefig(FIG_PATH / 'f1_scores_bar.png', dpi = 300)"
   ]
  },
  {
   "cell_type": "code",
   "execution_count": 40,
   "id": "d1ac85ff-a13b-46cb-9ce3-a5b2447c5e1c",
   "metadata": {},
   "outputs": [
    {
     "data": {
      "text/plain": [
       "{(1, 0, 0, 0): 'early_troph',\n",
       " (0, 1, 0, 0): 'late_troph',\n",
       " (0, 0, 1, 0): 'ring',\n",
       " (0, 0, 0, 1): 'schizont'}"
      ]
     },
     "execution_count": 40,
     "metadata": {},
     "output_type": "execute_result"
    }
   ],
   "source": [
    "sc_data.class_map"
   ]
  }
 ],
 "metadata": {
  "kernelspec": {
   "display_name": "Python 3 (ipykernel)",
   "language": "python",
   "name": "python3"
  },
  "language_info": {
   "codemirror_mode": {
    "name": "ipython",
    "version": 3
   },
   "file_extension": ".py",
   "mimetype": "text/x-python",
   "name": "python",
   "nbconvert_exporter": "python",
   "pygments_lexer": "ipython3",
   "version": "3.11.2"
  }
 },
 "nbformat": 4,
 "nbformat_minor": 5
}
